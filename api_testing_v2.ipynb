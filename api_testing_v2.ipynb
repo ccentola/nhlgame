{
 "cells": [
  {
   "cell_type": "code",
   "execution_count": 4,
   "metadata": {},
   "outputs": [],
   "source": [
    "import pandas as pd\n",
    "import numpy as np\n",
    "import requests"
   ]
  },
  {
   "cell_type": "code",
   "execution_count": 40,
   "metadata": {},
   "outputs": [],
   "source": [
    "# base URL\n",
    "url = 'https://statsapi.web.nhl.com/api/v1/'\n",
    "game = '2011030221'\n",
    "game_list = [\n",
    "    '2019010001',\n",
    "    '2019010002',\n",
    "    '2019010003',\n",
    "    '2019010004',\n",
    "    '2019010005',\n",
    "    '2019010006',\n",
    "    '2019010007',\n",
    "    '2019010008',\n",
    "    '2019010009'\n",
    "]"
   ]
  },
  {
   "cell_type": "code",
   "execution_count": 55,
   "metadata": {},
   "outputs": [],
   "source": [
    "r = requests.get(url + f'game/{game}/feed/live/')\n",
    "data_test = r.json()"
   ]
  },
  {
   "cell_type": "code",
   "execution_count": 56,
   "metadata": {},
   "outputs": [
    {
     "data": {
      "text/plain": [
       "dict_keys(['copyright', 'gamePk', 'link', 'metaData', 'gameData', 'liveData'])"
      ]
     },
     "execution_count": 56,
     "metadata": {},
     "output_type": "execute_result"
    }
   ],
   "source": [
    "data_test.keys()"
   ]
  },
  {
   "cell_type": "code",
   "execution_count": 57,
   "metadata": {},
   "outputs": [
    {
     "data": {
      "text/plain": [
       "{'id': 5019, 'name': 'American Airlines Center', 'link': '/api/v1/venues/5019'}"
      ]
     },
     "execution_count": 57,
     "metadata": {},
     "output_type": "execute_result"
    }
   ],
   "source": [
    "data_test['gameData']['venue']"
   ]
  },
  {
   "cell_type": "code",
   "execution_count": 58,
   "metadata": {},
   "outputs": [
    {
     "name": "stdout",
     "output_type": "stream",
     "text": [
      "{'id': 5178, 'name': 'T-Mobile Arena', 'link': '/api/v1/venues/5178'}\n",
      "{'id': 5030, 'name': 'Bridgestone Arena', 'link': '/api/v1/venues/5030'}\n",
      "{'name': 'Prudential Center', 'link': '/api/v1/venues/null'}\n",
      "{'id': 5094, 'name': 'Capital One Arena', 'link': '/api/v1/venues/5094'}\n",
      "{'name': 'Centre Bell', 'link': '/api/v1/venues/null'}\n",
      "{'id': 5096, 'name': 'Wells Fargo Center', 'link': '/api/v1/venues/5096'}\n",
      "{'id': 5167, 'name': 'Pegula Ice Arena', 'link': '/api/v1/venues/5167'}\n",
      "{'id': 5030, 'name': 'Bridgestone Arena', 'link': '/api/v1/venues/5030'}\n",
      "{'id': 5019, 'name': 'American Airlines Center', 'link': '/api/v1/venues/5019'}\n"
     ]
    }
   ],
   "source": [
    "for game in game_list:\n",
    "    \n",
    "    r = requests.get(url + f'game/{game}/feed/live/')\n",
    "    data = r.json()\n",
    "    \n",
    "    print(data['gameData']['venue'])"
   ]
  },
  {
   "cell_type": "code",
   "execution_count": null,
   "metadata": {},
   "outputs": [],
   "source": []
  },
  {
   "cell_type": "code",
   "execution_count": null,
   "metadata": {},
   "outputs": [],
   "source": []
  },
  {
   "cell_type": "code",
   "execution_count": null,
   "metadata": {},
   "outputs": [],
   "source": []
  },
  {
   "cell_type": "code",
   "execution_count": 38,
   "metadata": {},
   "outputs": [
    {
     "name": "stdout",
     "output_type": "stream",
     "text": [
      "2019010001\n",
      "2019010002\n",
      "2019010003\n",
      "2019010004\n",
      "2019010005\n",
      "2019010006\n",
      "2019010007\n",
      "2019010008\n",
      "2019010009\n"
     ]
    }
   ],
   "source": [
    "game_id = [] #data['gamePk'] or game\n",
    "venue = [] #data['gameData']['venue']['id']\n",
    "decision_winner = [] #data['liveData']['decisions']['winner']['id']\n",
    "decision_loser = [] #data['liveData']['decisions']['loser']['id']\n",
    "decision_first_star = [] #data['liveData']['decisions']['firstStar']['id']\n",
    "decision_second_star = [] #data['liveData']['decisions']['secondStar']['id']\n",
    "decision_third_star = [] #data['liveData']['decisions']['thirdStar']['id']\n",
    "\n",
    "for game in game_list:\n",
    "    \n",
    "    r = requests.get(url + f'game/{game}/feed/live/')\n",
    "    data = r.json()\n",
    "    \n",
    "    print(game)\n",
    "    \n",
    "    game_id.append(data['gamePk'])\n",
    "    venue.append(data['gameData']['venue']['name'])\n",
    "    decision_first_star.append(data['liveData']['decisions']['firstStar']['id'])\n",
    "    decision_second_star.append(data['liveData']['decisions']['secondStar']['id'])\n",
    "    decision_third_star.append(data['liveData']['decisions']['thirdStar']['id'])\n",
    "    \n"
   ]
  },
  {
   "cell_type": "code",
   "execution_count": 39,
   "metadata": {},
   "outputs": [
    {
     "ename": "ValueError",
     "evalue": "arrays must all be same length",
     "output_type": "error",
     "traceback": [
      "\u001b[0;31m---------------------------------------------------------------------------\u001b[0m",
      "\u001b[0;31mValueError\u001b[0m                                Traceback (most recent call last)",
      "\u001b[0;32m<ipython-input-39-44dab9c79ad4>\u001b[0m in \u001b[0;36m<module>\u001b[0;34m\u001b[0m\n\u001b[1;32m      4\u001b[0m     \u001b[0;34m'decision_first_star'\u001b[0m\u001b[0;34m:\u001b[0m\u001b[0mdecision_first_star\u001b[0m\u001b[0;34m,\u001b[0m\u001b[0;34m\u001b[0m\u001b[0;34m\u001b[0m\u001b[0m\n\u001b[1;32m      5\u001b[0m     \u001b[0;34m'decision_second_star'\u001b[0m\u001b[0;34m:\u001b[0m\u001b[0mdecision_second_star\u001b[0m\u001b[0;34m,\u001b[0m\u001b[0;34m\u001b[0m\u001b[0;34m\u001b[0m\u001b[0m\n\u001b[0;32m----> 6\u001b[0;31m     \u001b[0;34m'decision_third_star'\u001b[0m\u001b[0;34m:\u001b[0m\u001b[0mdecision_third_star\u001b[0m\u001b[0;34m\u001b[0m\u001b[0;34m\u001b[0m\u001b[0m\n\u001b[0m\u001b[1;32m      7\u001b[0m })\n",
      "\u001b[0;32m~/opt/anaconda3/lib/python3.7/site-packages/pandas/core/frame.py\u001b[0m in \u001b[0;36m__init__\u001b[0;34m(self, data, index, columns, dtype, copy)\u001b[0m\n\u001b[1;32m    409\u001b[0m             )\n\u001b[1;32m    410\u001b[0m         \u001b[0;32melif\u001b[0m \u001b[0misinstance\u001b[0m\u001b[0;34m(\u001b[0m\u001b[0mdata\u001b[0m\u001b[0;34m,\u001b[0m \u001b[0mdict\u001b[0m\u001b[0;34m)\u001b[0m\u001b[0;34m:\u001b[0m\u001b[0;34m\u001b[0m\u001b[0;34m\u001b[0m\u001b[0m\n\u001b[0;32m--> 411\u001b[0;31m             \u001b[0mmgr\u001b[0m \u001b[0;34m=\u001b[0m \u001b[0minit_dict\u001b[0m\u001b[0;34m(\u001b[0m\u001b[0mdata\u001b[0m\u001b[0;34m,\u001b[0m \u001b[0mindex\u001b[0m\u001b[0;34m,\u001b[0m \u001b[0mcolumns\u001b[0m\u001b[0;34m,\u001b[0m \u001b[0mdtype\u001b[0m\u001b[0;34m=\u001b[0m\u001b[0mdtype\u001b[0m\u001b[0;34m)\u001b[0m\u001b[0;34m\u001b[0m\u001b[0;34m\u001b[0m\u001b[0m\n\u001b[0m\u001b[1;32m    412\u001b[0m         \u001b[0;32melif\u001b[0m \u001b[0misinstance\u001b[0m\u001b[0;34m(\u001b[0m\u001b[0mdata\u001b[0m\u001b[0;34m,\u001b[0m \u001b[0mma\u001b[0m\u001b[0;34m.\u001b[0m\u001b[0mMaskedArray\u001b[0m\u001b[0;34m)\u001b[0m\u001b[0;34m:\u001b[0m\u001b[0;34m\u001b[0m\u001b[0;34m\u001b[0m\u001b[0m\n\u001b[1;32m    413\u001b[0m             \u001b[0;32mimport\u001b[0m \u001b[0mnumpy\u001b[0m\u001b[0;34m.\u001b[0m\u001b[0mma\u001b[0m\u001b[0;34m.\u001b[0m\u001b[0mmrecords\u001b[0m \u001b[0;32mas\u001b[0m \u001b[0mmrecords\u001b[0m\u001b[0;34m\u001b[0m\u001b[0;34m\u001b[0m\u001b[0m\n",
      "\u001b[0;32m~/opt/anaconda3/lib/python3.7/site-packages/pandas/core/internals/construction.py\u001b[0m in \u001b[0;36minit_dict\u001b[0;34m(data, index, columns, dtype)\u001b[0m\n\u001b[1;32m    255\u001b[0m             \u001b[0marr\u001b[0m \u001b[0;32mif\u001b[0m \u001b[0;32mnot\u001b[0m \u001b[0mis_datetime64tz_dtype\u001b[0m\u001b[0;34m(\u001b[0m\u001b[0marr\u001b[0m\u001b[0;34m)\u001b[0m \u001b[0;32melse\u001b[0m \u001b[0marr\u001b[0m\u001b[0;34m.\u001b[0m\u001b[0mcopy\u001b[0m\u001b[0;34m(\u001b[0m\u001b[0;34m)\u001b[0m \u001b[0;32mfor\u001b[0m \u001b[0marr\u001b[0m \u001b[0;32min\u001b[0m \u001b[0marrays\u001b[0m\u001b[0;34m\u001b[0m\u001b[0;34m\u001b[0m\u001b[0m\n\u001b[1;32m    256\u001b[0m         ]\n\u001b[0;32m--> 257\u001b[0;31m     \u001b[0;32mreturn\u001b[0m \u001b[0marrays_to_mgr\u001b[0m\u001b[0;34m(\u001b[0m\u001b[0marrays\u001b[0m\u001b[0;34m,\u001b[0m \u001b[0mdata_names\u001b[0m\u001b[0;34m,\u001b[0m \u001b[0mindex\u001b[0m\u001b[0;34m,\u001b[0m \u001b[0mcolumns\u001b[0m\u001b[0;34m,\u001b[0m \u001b[0mdtype\u001b[0m\u001b[0;34m=\u001b[0m\u001b[0mdtype\u001b[0m\u001b[0;34m)\u001b[0m\u001b[0;34m\u001b[0m\u001b[0;34m\u001b[0m\u001b[0m\n\u001b[0m\u001b[1;32m    258\u001b[0m \u001b[0;34m\u001b[0m\u001b[0m\n\u001b[1;32m    259\u001b[0m \u001b[0;34m\u001b[0m\u001b[0m\n",
      "\u001b[0;32m~/opt/anaconda3/lib/python3.7/site-packages/pandas/core/internals/construction.py\u001b[0m in \u001b[0;36marrays_to_mgr\u001b[0;34m(arrays, arr_names, index, columns, dtype)\u001b[0m\n\u001b[1;32m     75\u001b[0m     \u001b[0;31m# figure out the index, if necessary\u001b[0m\u001b[0;34m\u001b[0m\u001b[0;34m\u001b[0m\u001b[0;34m\u001b[0m\u001b[0m\n\u001b[1;32m     76\u001b[0m     \u001b[0;32mif\u001b[0m \u001b[0mindex\u001b[0m \u001b[0;32mis\u001b[0m \u001b[0;32mNone\u001b[0m\u001b[0;34m:\u001b[0m\u001b[0;34m\u001b[0m\u001b[0;34m\u001b[0m\u001b[0m\n\u001b[0;32m---> 77\u001b[0;31m         \u001b[0mindex\u001b[0m \u001b[0;34m=\u001b[0m \u001b[0mextract_index\u001b[0m\u001b[0;34m(\u001b[0m\u001b[0marrays\u001b[0m\u001b[0;34m)\u001b[0m\u001b[0;34m\u001b[0m\u001b[0;34m\u001b[0m\u001b[0m\n\u001b[0m\u001b[1;32m     78\u001b[0m     \u001b[0;32melse\u001b[0m\u001b[0;34m:\u001b[0m\u001b[0;34m\u001b[0m\u001b[0;34m\u001b[0m\u001b[0m\n\u001b[1;32m     79\u001b[0m         \u001b[0mindex\u001b[0m \u001b[0;34m=\u001b[0m \u001b[0mensure_index\u001b[0m\u001b[0;34m(\u001b[0m\u001b[0mindex\u001b[0m\u001b[0;34m)\u001b[0m\u001b[0;34m\u001b[0m\u001b[0;34m\u001b[0m\u001b[0m\n",
      "\u001b[0;32m~/opt/anaconda3/lib/python3.7/site-packages/pandas/core/internals/construction.py\u001b[0m in \u001b[0;36mextract_index\u001b[0;34m(data)\u001b[0m\n\u001b[1;32m    366\u001b[0m             \u001b[0mlengths\u001b[0m \u001b[0;34m=\u001b[0m \u001b[0mlist\u001b[0m\u001b[0;34m(\u001b[0m\u001b[0mset\u001b[0m\u001b[0;34m(\u001b[0m\u001b[0mraw_lengths\u001b[0m\u001b[0;34m)\u001b[0m\u001b[0;34m)\u001b[0m\u001b[0;34m\u001b[0m\u001b[0;34m\u001b[0m\u001b[0m\n\u001b[1;32m    367\u001b[0m             \u001b[0;32mif\u001b[0m \u001b[0mlen\u001b[0m\u001b[0;34m(\u001b[0m\u001b[0mlengths\u001b[0m\u001b[0;34m)\u001b[0m \u001b[0;34m>\u001b[0m \u001b[0;36m1\u001b[0m\u001b[0;34m:\u001b[0m\u001b[0;34m\u001b[0m\u001b[0;34m\u001b[0m\u001b[0m\n\u001b[0;32m--> 368\u001b[0;31m                 \u001b[0;32mraise\u001b[0m \u001b[0mValueError\u001b[0m\u001b[0;34m(\u001b[0m\u001b[0;34m\"arrays must all be same length\"\u001b[0m\u001b[0;34m)\u001b[0m\u001b[0;34m\u001b[0m\u001b[0;34m\u001b[0m\u001b[0m\n\u001b[0m\u001b[1;32m    369\u001b[0m \u001b[0;34m\u001b[0m\u001b[0m\n\u001b[1;32m    370\u001b[0m             \u001b[0;32mif\u001b[0m \u001b[0mhave_dicts\u001b[0m\u001b[0;34m:\u001b[0m\u001b[0;34m\u001b[0m\u001b[0;34m\u001b[0m\u001b[0m\n",
      "\u001b[0;31mValueError\u001b[0m: arrays must all be same length"
     ]
    }
   ],
   "source": [
    "df = pd.DataFrame({\n",
    "    'game_id':game_id,\n",
    "    'venue':venue_id,\n",
    "    'decision_first_star':decision_first_star,\n",
    "    'decision_second_star':decision_second_star,\n",
    "    'decision_third_star':decision_third_star\n",
    "})"
   ]
  },
  {
   "cell_type": "code",
   "execution_count": 33,
   "metadata": {},
   "outputs": [],
   "source": [
    "r = requests.get(url + f'game/2019010003/feed/live/')\n",
    "data = r.json()"
   ]
  },
  {
   "cell_type": "code",
   "execution_count": 35,
   "metadata": {},
   "outputs": [
    {
     "data": {
      "text/plain": [
       "{'name': 'Prudential Center', 'link': '/api/v1/venues/null'}"
      ]
     },
     "execution_count": 35,
     "metadata": {},
     "output_type": "execute_result"
    }
   ],
   "source": [
    "data['gameData']['venue']"
   ]
  },
  {
   "cell_type": "code",
   "execution_count": 10,
   "metadata": {},
   "outputs": [
    {
     "data": {
      "text/plain": [
       "2011030221"
      ]
     },
     "execution_count": 10,
     "metadata": {},
     "output_type": "execute_result"
    }
   ],
   "source": [
    "# for game in data['dates'][7]['games']:\n",
    "#     print(game['status'])\n",
    "data['gamePk']"
   ]
  },
  {
   "cell_type": "code",
   "execution_count": 20,
   "metadata": {},
   "outputs": [
    {
     "data": {
      "text/plain": [
       "{'winner': {'id': 8468524,\n",
       "  'fullName': 'Ilya Bryzgalov',\n",
       "  'link': '/api/v1/people/8468524'},\n",
       " 'loser': {'id': 8455710,\n",
       "  'fullName': 'Martin Brodeur',\n",
       "  'link': '/api/v1/people/8455710'},\n",
       " 'firstStar': {'id': 8464975,\n",
       "  'fullName': 'Daniel Briere',\n",
       "  'link': '/api/v1/people/8464975'},\n",
       " 'secondStar': {'id': 8474037,\n",
       "  'fullName': 'James van Riemsdyk',\n",
       "  'link': '/api/v1/people/8474037'},\n",
       " 'thirdStar': {'id': 8470610,\n",
       "  'fullName': 'Zach Parise',\n",
       "  'link': '/api/v1/people/8470610'}}"
      ]
     },
     "execution_count": 20,
     "metadata": {},
     "output_type": "execute_result"
    }
   ],
   "source": [
    "data['liveData']['decisions']"
   ]
  },
  {
   "cell_type": "code",
   "execution_count": 13,
   "metadata": {},
   "outputs": [
    {
     "ename": "TypeError",
     "evalue": "string indices must be integers",
     "output_type": "error",
     "traceback": [
      "\u001b[0;31m---------------------------------------------------------------------------\u001b[0m",
      "\u001b[0;31mTypeError\u001b[0m                                 Traceback (most recent call last)",
      "\u001b[0;32m<ipython-input-13-742c731dd389>\u001b[0m in \u001b[0;36m<module>\u001b[0;34m\u001b[0m\n\u001b[1;32m      8\u001b[0m \u001b[0;34m\u001b[0m\u001b[0m\n\u001b[1;32m      9\u001b[0m \u001b[0;32mfor\u001b[0m \u001b[0mgame\u001b[0m \u001b[0;32min\u001b[0m \u001b[0mdata\u001b[0m\u001b[0;34m[\u001b[0m\u001b[0;34m'liveData'\u001b[0m\u001b[0;34m]\u001b[0m\u001b[0;34m[\u001b[0m\u001b[0;34m'decisions'\u001b[0m\u001b[0;34m]\u001b[0m\u001b[0;34m:\u001b[0m\u001b[0;34m\u001b[0m\u001b[0;34m\u001b[0m\u001b[0m\n\u001b[0;32m---> 10\u001b[0;31m     \u001b[0mprint\u001b[0m\u001b[0;34m(\u001b[0m\u001b[0mgame\u001b[0m\u001b[0;34m[\u001b[0m\u001b[0;34m'winner'\u001b[0m\u001b[0;34m]\u001b[0m\u001b[0;34m[\u001b[0m\u001b[0;34m'id'\u001b[0m\u001b[0;34m]\u001b[0m\u001b[0;34m)\u001b[0m\u001b[0;34m\u001b[0m\u001b[0;34m\u001b[0m\u001b[0m\n\u001b[0m",
      "\u001b[0;31mTypeError\u001b[0m: string indices must be integers"
     ]
    }
   ],
   "source": [
    "game_id = [] #data['gamePk'] or game\n",
    "venue_id = [] #data['gameData']['venue']['id']\n",
    "decision_winner = [] #data['liveData']['decisions']['winner']['id']\n",
    "decision_loser = [] #data['liveData']['decisions']['loser']['id']\n",
    "decision_first_star = [] #data['liveData']['decisions']['firstStar']['id']\n",
    "decision_second_star = [] #data['liveData']['decisions']['secondStar']['id']\n",
    "decision_third_star = [] #data['liveData']['decisions']['thirdStar']['id']\n",
    "\n"
   ]
  },
  {
   "cell_type": "code",
   "execution_count": null,
   "metadata": {},
   "outputs": [],
   "source": [
    "game_id = [] #data['gamePk'] or game\n",
    "venue_id = [] #data['gameData']['venue']['id']\n",
    "decision_winner = [] #data['liveData']['decisions']['winner']['id']\n",
    "decision_loser = [] #data['liveData']['decisions']['loser']['id']\n",
    "decision_first_star = [] #data['liveData']['decisions']['firstStar']['id']\n",
    "decision_second_star = [] #data['liveData']['decisions']['secondStar']['id']\n",
    "decision_third_star = [] #data['liveData']['decisions']['thirdStar']['id']\n",
    "\n",
    "# player info - list\n",
    "play_player_type = [] #data['liveData']['plays']['allPlays'][54]['players'][0]['playerType']\n",
    "play_player_id = [] #data['liveData']['plays']['allPlays'][54]['players'][0]['player']['id']\n",
    "play_number = []\n",
    "\n",
    "\n",
    "# play info\n",
    "play_number = [] #data['liveData']['plays']['allPlays'][30]['about']['eventIdx']\n",
    "play_event_id = []\n",
    "play_period = []\n",
    "play_period_type = []\n",
    "play_period_time = []\n",
    "play_period_time_remaining = []\n",
    "play_period_date_time = []\n",
    "play_team_id = [] #data['liveData']['plays']['allPlays'][5]['team']['id']\n",
    "home_goals = [] #data['liveData']['plays']['allPlays'][10]['about']['goals']['home']\n",
    "away_goals = [] #data['liveData']['plays']['allPlays'][10]['about']['goals']['away']\n",
    "\n",
    "#results\n",
    "play_event = [] #data['liveData']['plays']['allPlays'][54]['result']['event']\n",
    "play_event_code = [] #data['liveData']['plays']['allPlays'][54]['result']['eventCode']\n",
    "play_event_type_id = [] #data['liveData']['plays']['allPlays'][54]['result']['eventTypeId']\n",
    "play_event_description = [] #data['liveData']['plays']['allPlays'][54]['result']['eventDescription']\n",
    "play_even_secondary_type = [] #data['liveData']['plays']['allPlays'][6]['result']['secondaryType']\n",
    "\n",
    "# coordinates\n",
    "x_coord = [] #data['liveData']['plays']['allPlays'][54]['coordinates']['x']\n",
    "y_coord = [] #data['liveData']['plays']['allPlays'][54]['coordinates']['y']\n",
    "\n",
    "# game_plays_players\n"
   ]
  },
  {
   "cell_type": "code",
   "execution_count": null,
   "metadata": {},
   "outputs": [],
   "source": []
  },
  {
   "cell_type": "code",
   "execution_count": null,
   "metadata": {},
   "outputs": [],
   "source": []
  },
  {
   "cell_type": "code",
   "execution_count": 43,
   "metadata": {},
   "outputs": [],
   "source": [
    "# current season stats    : 'people/{ovi}/stats?stats=statsSingleSeason'\n",
    "# selected season stats   : 'people/{ovi}/stats?stats=statsSingleSeason&season=20152016'\n",
    "# vs team stats           : 'people/{ovi}/stats?stats=vsTeam'\n",
    "# goals by game situation : 'people/{ovi}/stats?stats=goalsByGameSituation&season=20182019'\n",
    "# r = requests.get(url + f'people/{test}/stats?stats=vsTeam')\n",
    "r = requests.get(url + f'people/{test}/stats?stats=vsTeam')\n",
    "data = r.json()"
   ]
  },
  {
   "cell_type": "code",
   "execution_count": 160,
   "metadata": {},
   "outputs": [],
   "source": [
    "\n",
    "r = requests.get(url + f'game/{game}/feed/live')\n",
    "data = r.json()\n"
   ]
  },
  {
   "cell_type": "code",
   "execution_count": 184,
   "metadata": {},
   "outputs": [
    {
     "data": {
      "text/plain": [
       "[{'periodType': 'REGULAR',\n",
       "  'startTime': '2012-04-29T19:20:13Z',\n",
       "  'endTime': '2012-04-29T19:56:09Z',\n",
       "  'num': 1,\n",
       "  'ordinalNum': '1st',\n",
       "  'home': {'goals': 0, 'shotsOnGoal': 6, 'rinkSide': 'right'},\n",
       "  'away': {'goals': 1, 'shotsOnGoal': 15, 'rinkSide': 'left'}},\n",
       " {'periodType': 'REGULAR',\n",
       "  'startTime': '2012-04-29T20:13:27Z',\n",
       "  'endTime': '2012-04-29T20:52:29Z',\n",
       "  'num': 2,\n",
       "  'ordinalNum': '2nd',\n",
       "  'home': {'goals': 2, 'shotsOnGoal': 8, 'rinkSide': 'left'},\n",
       "  'away': {'goals': 1, 'shotsOnGoal': 3, 'rinkSide': 'right'}},\n",
       " {'periodType': 'REGULAR',\n",
       "  'startTime': '2012-04-29T21:09:58Z',\n",
       "  'endTime': '2012-04-29T21:52:21Z',\n",
       "  'num': 3,\n",
       "  'ordinalNum': '3rd',\n",
       "  'home': {'goals': 1, 'shotsOnGoal': 15, 'rinkSide': 'right'},\n",
       "  'away': {'goals': 1, 'shotsOnGoal': 4, 'rinkSide': 'left'}},\n",
       " {'periodType': 'OVERTIME',\n",
       "  'startTime': '2012-04-29T22:07:36Z',\n",
       "  'endTime': '2012-04-29T22:15:55Z',\n",
       "  'num': 4,\n",
       "  'ordinalNum': 'OT',\n",
       "  'home': {'goals': 1, 'shotsOnGoal': 7, 'rinkSide': 'left'},\n",
       "  'away': {'goals': 0, 'shotsOnGoal': 4, 'rinkSide': 'right'}}]"
      ]
     },
     "execution_count": 184,
     "metadata": {},
     "output_type": "execute_result"
    }
   ],
   "source": [
    "data['liveData']['linescore']['periods']"
   ]
  },
  {
   "cell_type": "code",
   "execution_count": null,
   "metadata": {},
   "outputs": [],
   "source": []
  }
 ],
 "metadata": {
  "kernelspec": {
   "display_name": "Python 3",
   "language": "python",
   "name": "python3"
  },
  "language_info": {
   "codemirror_mode": {
    "name": "ipython",
    "version": 3
   },
   "file_extension": ".py",
   "mimetype": "text/x-python",
   "name": "python",
   "nbconvert_exporter": "python",
   "pygments_lexer": "ipython3",
   "version": "3.7.4"
  }
 },
 "nbformat": 4,
 "nbformat_minor": 4
}
